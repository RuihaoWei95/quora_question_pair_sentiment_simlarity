{
  "nbformat": 4,
  "nbformat_minor": 0,
  "metadata": {
    "colab": {
      "provenance": [],
      "gpuType": "A100"
    },
    "kernelspec": {
      "name": "python3",
      "display_name": "Python 3"
    },
    "language_info": {
      "name": "python"
    },
    "accelerator": "GPU"
  },
  "cells": [
    {
      "cell_type": "markdown",
      "source": [],
      "metadata": {
        "id": "Daked8EhojmG"
      }
    },
    {
      "cell_type": "code",
      "source": [
        "from google.colab import drive\n",
        "drive.mount('/content/drive')"
      ],
      "metadata": {
        "colab": {
          "base_uri": "https://localhost:8080/"
        },
        "id": "SucuEbRQtdJh",
        "outputId": "13d07a22-db59-452a-ef36-912dbc0679c3"
      },
      "execution_count": 2,
      "outputs": [
        {
          "output_type": "stream",
          "name": "stdout",
          "text": [
            "Mounted at /content/drive\n"
          ]
        }
      ]
    },
    {
      "cell_type": "code",
      "source": [
        "#basics\n",
        "import numpy as np\n",
        "import pandas as pd\n",
        "\n",
        "#text_processing\n",
        "import re\n",
        "import nltk\n",
        "import string\n",
        "from nltk.corpus import stopwords\n",
        "from nltk import sent_tokenize, word_tokenize\n",
        "from nltk.stem import SnowballStemmer\n",
        "\n",
        "#data preperation\n",
        "from sklearn.model_selection import train_test_split\n",
        "from keras.preprocessing.text import Tokenizer\n",
        "from tensorflow.keras.preprocessing.sequence import pad_sequences\n",
        "\n",
        "#other\n",
        "from tqdm import tqdm\n",
        "import gc\n",
        "\n",
        "#Glove\n",
        "import sklearn.neighbors\n",
        "from collections import OrderedDict\n",
        "\n",
        "#Neural Network\n",
        "from tensorflow.keras import Sequential\n",
        "from tensorflow.keras.models import Model\n",
        "from tensorflow.keras.regularizers import l2\n",
        "from tensorflow.keras.layers import BatchNormalization\n",
        "from tensorflow.keras.layers import Embedding, LSTM, Dropout, concatenate, Input, Dense\n",
        "from tensorflow.keras.layers import Bidirectional, Attention, Reshape, Flatten\n",
        "from tensorflow.keras.callbacks import ModelCheckpoint, EarlyStopping\n"
      ],
      "metadata": {
        "id": "n6nzZYeYpxIY"
      },
      "execution_count": 3,
      "outputs": []
    },
    {
      "cell_type": "code",
      "source": [
        "nltk.download('stopwords')"
      ],
      "metadata": {
        "colab": {
          "base_uri": "https://localhost:8080/"
        },
        "id": "BAmP8_HPqhz3",
        "outputId": "dbdb2f4a-3401-4376-84fd-271c2c126644"
      },
      "execution_count": 4,
      "outputs": [
        {
          "output_type": "stream",
          "name": "stderr",
          "text": [
            "[nltk_data] Downloading package stopwords to /root/nltk_data...\n",
            "[nltk_data]   Unzipping corpora/stopwords.zip.\n"
          ]
        },
        {
          "output_type": "execute_result",
          "data": {
            "text/plain": [
              "True"
            ]
          },
          "metadata": {},
          "execution_count": 4
        }
      ]
    },
    {
      "cell_type": "code",
      "source": [
        "nltk.download('punkt')"
      ],
      "metadata": {
        "colab": {
          "base_uri": "https://localhost:8080/"
        },
        "id": "3qDILCJLFHnO",
        "outputId": "dc319a55-2700-42f8-d178-4c4c050974de"
      },
      "execution_count": 5,
      "outputs": [
        {
          "output_type": "stream",
          "name": "stderr",
          "text": [
            "[nltk_data] Downloading package punkt to /root/nltk_data...\n",
            "[nltk_data]   Unzipping tokenizers/punkt.zip.\n"
          ]
        },
        {
          "output_type": "execute_result",
          "data": {
            "text/plain": [
              "True"
            ]
          },
          "metadata": {},
          "execution_count": 5
        }
      ]
    },
    {
      "cell_type": "markdown",
      "source": [
        "# Data Preprocessing"
      ],
      "metadata": {
        "id": "v5A0ZGwKq0Qr"
      }
    },
    {
      "cell_type": "code",
      "source": [
        "df = pd.read_csv('/content/drive/MyDrive/COEN346_final_data/train.csv')\n",
        "# drop null\n",
        "df.dropna(inplace=True)\n",
        "\n"
      ],
      "metadata": {
        "id": "g9T9y2VnqpmZ"
      },
      "execution_count": 6,
      "outputs": []
    },
    {
      "cell_type": "markdown",
      "source": [
        "## Lower Casing and Drop symbols"
      ],
      "metadata": {
        "id": "MJlecloCsw9v"
      }
    },
    {
      "cell_type": "code",
      "source": [
        "# clean text\n",
        "def clean_text(x):\n",
        "\n",
        "    text = re.sub('\\s+\\n+', ' ', x)\n",
        "    text = re.sub('[^a-zA-Z0-9]', ' ', text)\n",
        "    text = re.sub(r\"[^A-Za-z0-9^,!.\\/'+-=]\", \" \", text)\n",
        "    text = re.sub(r\"what's\", \"what is \", text)\n",
        "    text = re.sub(r\"\\'s\", \" \", text)\n",
        "    text = re.sub(r\"\\'ve\", \" have \", text)\n",
        "    text = re.sub(r\"can't\", \"cannot \", text)\n",
        "    text = re.sub(r\"n't\", \" not \", text)\n",
        "    text = re.sub(r\"i'm\", \"i am \", text)\n",
        "    text = re.sub(r\"\\'re\", \" are \", text)\n",
        "    text = re.sub(r\"\\'d\", \" would \", text)\n",
        "    text = re.sub(r\"\\'ll\", \" will \", text)\n",
        "    text = re.sub(r\",\", \" \", text)\n",
        "    text = re.sub(r\"\\.\", \" \", text)\n",
        "    text = re.sub(r\"!\", \" ! \", text)\n",
        "    text = re.sub(r\"\\/\", \" \", text)\n",
        "    text = re.sub(r\"\\^\", \" ^ \", text)\n",
        "    text = re.sub(r\"\\+\", \" + \", text)\n",
        "    text = re.sub(r\"\\-\", \" - \", text)\n",
        "    text = re.sub(r\"\\=\", \" = \", text)\n",
        "    text = re.sub(r\"'\", \" \", text)\n",
        "    text = re.sub(r\":\", \" : \", text)\n",
        "    text = re.sub(r\"(\\d+)(k)\", r\"\\g<1>000\", text)\n",
        "    text = re.sub(r\" e g \", \" eg \", text)\n",
        "    text = re.sub(r\" b g \", \" bg \", text)\n",
        "    text = re.sub(r\" u s \", \" american \", text)\n",
        "    # text = re.sub(r\"\\0s\", \"0\", text) # It doesn't make sense to me\n",
        "    text = re.sub(r\" 9 11 \", \"911\", text)\n",
        "    text = re.sub(r\"e - mail\", \"email\", text)\n",
        "    text = re.sub(r\"j k\", \"jk\", text)\n",
        "    text = re.sub(r\"\\s{2,}\", \" \", text)\n",
        "    text = text.lower()\n",
        "\n",
        "    return text\n",
        "\n",
        "df['question1_cleaned'] = df['question1'].apply(lambda x : clean_text(x))\n",
        "df['question2_cleaned'] = df['question2'].apply(lambda x : clean_text(x))\n"
      ],
      "metadata": {
        "id": "UFjhKu8bq-wP"
      },
      "execution_count": 7,
      "outputs": []
    },
    {
      "cell_type": "markdown",
      "source": [
        "## Stemming"
      ],
      "metadata": {
        "id": "GEHodJUus_Sm"
      }
    },
    {
      "cell_type": "code",
      "source": [
        "# stemming\n",
        "stemmer = SnowballStemmer('english')\n",
        "\n",
        "def stem_words(text):\n",
        "    return ' '.join([(stemmer.stem(word.strip())).strip() for word in text.split()])\n",
        "\n",
        "pbar = tqdm(total=len(df), desc='Stemming question1')\n",
        "df['question1_cleaned'] = df['question1_cleaned'].apply(lambda x: (pbar.update(1), stem_words(x))[1])\n",
        "pbar.close()\n",
        "\n",
        "pbar = tqdm(total=len(df), desc='Stemming question2')\n",
        "df['question2_cleaned']= df['question2_cleaned'].apply(lambda x: (pbar.update(1), stem_words(x))[1])\n",
        "pbar.close()"
      ],
      "metadata": {
        "colab": {
          "base_uri": "https://localhost:8080/"
        },
        "id": "JNY4F5PvspvX",
        "outputId": "c63fc590-b66f-4b27-c9a9-f7a9a9a5c392"
      },
      "execution_count": 8,
      "outputs": [
        {
          "output_type": "stream",
          "name": "stderr",
          "text": [
            "Stemming question1: 100%|██████████| 404287/404287 [00:39<00:00, 10262.58it/s]\n",
            "Stemming question2: 100%|██████████| 404287/404287 [00:39<00:00, 10146.04it/s]\n"
          ]
        }
      ]
    },
    {
      "cell_type": "markdown",
      "source": [
        "## Removing Stopwords"
      ],
      "metadata": {
        "id": "JvIjZEsutZeh"
      }
    },
    {
      "cell_type": "code",
      "source": [
        "stop_words=stopwords.words('english')\n",
        "\n",
        "def remove_stopwords(text):\n",
        "\n",
        "    new_text=[]\n",
        "\n",
        "    for word in text.split():\n",
        "\n",
        "        if word in stop_words:\n",
        "            new_text.append('')\n",
        "\n",
        "        else:\n",
        "            new_text.append(word.strip())\n",
        "\n",
        "    x=new_text[:]\n",
        "    new_text.clear()\n",
        "    return ' '.join(x)"
      ],
      "metadata": {
        "id": "UoqRqDgOtd6a"
      },
      "execution_count": 9,
      "outputs": []
    },
    {
      "cell_type": "code",
      "source": [
        "pbar = tqdm(total=len(df), desc='Removing Stopwords:')\n",
        "df['question1_cleaned']= df['question1_cleaned'].apply(lambda x: (pbar.update(1), remove_stopwords(x))[1])\n",
        "pbar.close()\n",
        "\n",
        "pbar = tqdm(total=len(df), desc='Removing Stopwords:')\n",
        "df['question2_cleaned'] = df['question2_cleaned'].apply(lambda x: (pbar.update(1), remove_stopwords(x))[1])\n",
        "pbar.close()"
      ],
      "metadata": {
        "colab": {
          "base_uri": "https://localhost:8080/"
        },
        "id": "iaBu0CMEtfDl",
        "outputId": "a848afa8-42e4-4b06-fac9-89a1405f0155"
      },
      "execution_count": 10,
      "outputs": [
        {
          "output_type": "stream",
          "name": "stderr",
          "text": [
            "Removing Stopwords:: 100%|██████████| 404287/404287 [00:07<00:00, 55586.58it/s]\n",
            "Removing Stopwords:: 100%|██████████| 404287/404287 [00:07<00:00, 54550.81it/s]\n"
          ]
        }
      ]
    },
    {
      "cell_type": "code",
      "source": [
        "example=np.random.randint(len(df))\n",
        "print(df['question1'][example])\n",
        "print(df['question1_cleaned'][example])"
      ],
      "metadata": {
        "colab": {
          "base_uri": "https://localhost:8080/"
        },
        "id": "WU8GzFqFthUO",
        "outputId": "f4a95f8b-545d-466e-cf62-936581998de4"
      },
      "execution_count": 11,
      "outputs": [
        {
          "output_type": "stream",
          "name": "stdout",
          "text": [
            "What are the beneficial things that could happen for the poor and middle class under Hilary Clinton?\n",
            "   benefici thing  could happen   poor  middl class  hilari clinton\n"
          ]
        }
      ]
    },
    {
      "cell_type": "markdown",
      "source": [
        "# Tokenization"
      ],
      "metadata": {
        "id": "7ub_9GYjvREJ"
      }
    },
    {
      "cell_type": "code",
      "source": [
        "# check sequence length\n",
        "df['question1_length'] = df['question1_cleaned'].apply(lambda x : len(x.split()))\n",
        "df['question2_length'] = df['question2_cleaned'].apply(lambda x : len(x.split()))\n",
        "df[['question1_length', 'question2_length']].describe()"
      ],
      "metadata": {
        "colab": {
          "base_uri": "https://localhost:8080/",
          "height": 300
        },
        "id": "mwDS2p_cvPnV",
        "outputId": "60fbb80f-6b10-4e5e-f9df-9b5627f82f46"
      },
      "execution_count": 12,
      "outputs": [
        {
          "output_type": "execute_result",
          "data": {
            "text/plain": [
              "       question1_length  question2_length\n",
              "count     404287.000000     404287.000000\n",
              "mean           5.758266          5.827098\n",
              "std            3.117159          3.423029\n",
              "min            0.000000          0.000000\n",
              "25%            4.000000          4.000000\n",
              "50%            5.000000          5.000000\n",
              "75%            7.000000          7.000000\n",
              "max           55.000000        105.000000"
            ],
            "text/html": [
              "\n",
              "  <div id=\"df-62947ce5-902c-40b5-9e20-ca7cdfbfbc34\">\n",
              "    <div class=\"colab-df-container\">\n",
              "      <div>\n",
              "<style scoped>\n",
              "    .dataframe tbody tr th:only-of-type {\n",
              "        vertical-align: middle;\n",
              "    }\n",
              "\n",
              "    .dataframe tbody tr th {\n",
              "        vertical-align: top;\n",
              "    }\n",
              "\n",
              "    .dataframe thead th {\n",
              "        text-align: right;\n",
              "    }\n",
              "</style>\n",
              "<table border=\"1\" class=\"dataframe\">\n",
              "  <thead>\n",
              "    <tr style=\"text-align: right;\">\n",
              "      <th></th>\n",
              "      <th>question1_length</th>\n",
              "      <th>question2_length</th>\n",
              "    </tr>\n",
              "  </thead>\n",
              "  <tbody>\n",
              "    <tr>\n",
              "      <th>count</th>\n",
              "      <td>404287.000000</td>\n",
              "      <td>404287.000000</td>\n",
              "    </tr>\n",
              "    <tr>\n",
              "      <th>mean</th>\n",
              "      <td>5.758266</td>\n",
              "      <td>5.827098</td>\n",
              "    </tr>\n",
              "    <tr>\n",
              "      <th>std</th>\n",
              "      <td>3.117159</td>\n",
              "      <td>3.423029</td>\n",
              "    </tr>\n",
              "    <tr>\n",
              "      <th>min</th>\n",
              "      <td>0.000000</td>\n",
              "      <td>0.000000</td>\n",
              "    </tr>\n",
              "    <tr>\n",
              "      <th>25%</th>\n",
              "      <td>4.000000</td>\n",
              "      <td>4.000000</td>\n",
              "    </tr>\n",
              "    <tr>\n",
              "      <th>50%</th>\n",
              "      <td>5.000000</td>\n",
              "      <td>5.000000</td>\n",
              "    </tr>\n",
              "    <tr>\n",
              "      <th>75%</th>\n",
              "      <td>7.000000</td>\n",
              "      <td>7.000000</td>\n",
              "    </tr>\n",
              "    <tr>\n",
              "      <th>max</th>\n",
              "      <td>55.000000</td>\n",
              "      <td>105.000000</td>\n",
              "    </tr>\n",
              "  </tbody>\n",
              "</table>\n",
              "</div>\n",
              "      <button class=\"colab-df-convert\" onclick=\"convertToInteractive('df-62947ce5-902c-40b5-9e20-ca7cdfbfbc34')\"\n",
              "              title=\"Convert this dataframe to an interactive table.\"\n",
              "              style=\"display:none;\">\n",
              "        \n",
              "  <svg xmlns=\"http://www.w3.org/2000/svg\" height=\"24px\"viewBox=\"0 0 24 24\"\n",
              "       width=\"24px\">\n",
              "    <path d=\"M0 0h24v24H0V0z\" fill=\"none\"/>\n",
              "    <path d=\"M18.56 5.44l.94 2.06.94-2.06 2.06-.94-2.06-.94-.94-2.06-.94 2.06-2.06.94zm-11 1L8.5 8.5l.94-2.06 2.06-.94-2.06-.94L8.5 2.5l-.94 2.06-2.06.94zm10 10l.94 2.06.94-2.06 2.06-.94-2.06-.94-.94-2.06-.94 2.06-2.06.94z\"/><path d=\"M17.41 7.96l-1.37-1.37c-.4-.4-.92-.59-1.43-.59-.52 0-1.04.2-1.43.59L10.3 9.45l-7.72 7.72c-.78.78-.78 2.05 0 2.83L4 21.41c.39.39.9.59 1.41.59.51 0 1.02-.2 1.41-.59l7.78-7.78 2.81-2.81c.8-.78.8-2.07 0-2.86zM5.41 20L4 18.59l7.72-7.72 1.47 1.35L5.41 20z\"/>\n",
              "  </svg>\n",
              "      </button>\n",
              "      \n",
              "  <style>\n",
              "    .colab-df-container {\n",
              "      display:flex;\n",
              "      flex-wrap:wrap;\n",
              "      gap: 12px;\n",
              "    }\n",
              "\n",
              "    .colab-df-convert {\n",
              "      background-color: #E8F0FE;\n",
              "      border: none;\n",
              "      border-radius: 50%;\n",
              "      cursor: pointer;\n",
              "      display: none;\n",
              "      fill: #1967D2;\n",
              "      height: 32px;\n",
              "      padding: 0 0 0 0;\n",
              "      width: 32px;\n",
              "    }\n",
              "\n",
              "    .colab-df-convert:hover {\n",
              "      background-color: #E2EBFA;\n",
              "      box-shadow: 0px 1px 2px rgba(60, 64, 67, 0.3), 0px 1px 3px 1px rgba(60, 64, 67, 0.15);\n",
              "      fill: #174EA6;\n",
              "    }\n",
              "\n",
              "    [theme=dark] .colab-df-convert {\n",
              "      background-color: #3B4455;\n",
              "      fill: #D2E3FC;\n",
              "    }\n",
              "\n",
              "    [theme=dark] .colab-df-convert:hover {\n",
              "      background-color: #434B5C;\n",
              "      box-shadow: 0px 1px 3px 1px rgba(0, 0, 0, 0.15);\n",
              "      filter: drop-shadow(0px 1px 2px rgba(0, 0, 0, 0.3));\n",
              "      fill: #FFFFFF;\n",
              "    }\n",
              "  </style>\n",
              "\n",
              "      <script>\n",
              "        const buttonEl =\n",
              "          document.querySelector('#df-62947ce5-902c-40b5-9e20-ca7cdfbfbc34 button.colab-df-convert');\n",
              "        buttonEl.style.display =\n",
              "          google.colab.kernel.accessAllowed ? 'block' : 'none';\n",
              "\n",
              "        async function convertToInteractive(key) {\n",
              "          const element = document.querySelector('#df-62947ce5-902c-40b5-9e20-ca7cdfbfbc34');\n",
              "          const dataTable =\n",
              "            await google.colab.kernel.invokeFunction('convertToInteractive',\n",
              "                                                     [key], {});\n",
              "          if (!dataTable) return;\n",
              "\n",
              "          const docLinkHtml = 'Like what you see? Visit the ' +\n",
              "            '<a target=\"_blank\" href=https://colab.research.google.com/notebooks/data_table.ipynb>data table notebook</a>'\n",
              "            + ' to learn more about interactive tables.';\n",
              "          element.innerHTML = '';\n",
              "          dataTable['output_type'] = 'display_data';\n",
              "          await google.colab.output.renderOutput(dataTable, element);\n",
              "          const docLink = document.createElement('div');\n",
              "          docLink.innerHTML = docLinkHtml;\n",
              "          element.appendChild(docLink);\n",
              "        }\n",
              "      </script>\n",
              "    </div>\n",
              "  </div>\n",
              "  "
            ]
          },
          "metadata": {},
          "execution_count": 12
        }
      ]
    },
    {
      "cell_type": "code",
      "source": [
        "max_len = 60"
      ],
      "metadata": {
        "id": "iLc49JRo2LHP"
      },
      "execution_count": 13,
      "outputs": []
    },
    {
      "cell_type": "code",
      "source": [
        "operational_df=df[['question1_cleaned', 'question2_cleaned', 'is_duplicate']]"
      ],
      "metadata": {
        "id": "bf8iSXxqvc9Q"
      },
      "execution_count": 14,
      "outputs": []
    },
    {
      "cell_type": "code",
      "source": [
        "#training and testing sets\n",
        "train_df, test_df = train_test_split(operational_df, test_size=0.2, random_state=1)"
      ],
      "metadata": {
        "id": "dAoQ24zTvkW7"
      },
      "execution_count": 15,
      "outputs": []
    },
    {
      "cell_type": "code",
      "source": [
        "# Tokenizing the text data\n",
        "tokenizer = Tokenizer()\n",
        "tokenizer.fit_on_texts(train_df['question1_cleaned'].values + train_df['question2_cleaned'].values)\n",
        "vocab=tokenizer.word_index"
      ],
      "metadata": {
        "id": "HhnMIG0FJZ_R"
      },
      "execution_count": 16,
      "outputs": []
    },
    {
      "cell_type": "code",
      "source": [
        "#preparing sequenced data\n",
        "train_sequences_1 = tokenizer.texts_to_sequences(train_df['question1_cleaned'].values)\n",
        "train_sequences_2 = tokenizer.texts_to_sequences(train_df['question2_cleaned'].values)\n",
        "test_sequences_1 = tokenizer.texts_to_sequences(test_df['question1_cleaned'].values)\n",
        "test_sequences_2 = tokenizer.texts_to_sequences(test_df['question2_cleaned'].values)"
      ],
      "metadata": {
        "id": "pZQnPkRJvwXz"
      },
      "execution_count": 17,
      "outputs": []
    },
    {
      "cell_type": "code",
      "source": [
        "# Pad sequences to a fixed length\n",
        "train_data_1 = pad_sequences(train_sequences_1, maxlen=max_len,  padding='post')\n",
        "train_data_2 = pad_sequences(train_sequences_2, maxlen=max_len,  padding='post')\n",
        "test_data_1 = pad_sequences(test_sequences_1, maxlen=max_len,  padding='post')\n",
        "test_data_2 = pad_sequences(test_sequences_2, maxlen=max_len,  padding='post')"
      ],
      "metadata": {
        "id": "R30rJwNxKk-7"
      },
      "execution_count": 18,
      "outputs": []
    },
    {
      "cell_type": "code",
      "source": [
        "# Prepare the target labels\n",
        "train_labels = train_df['is_duplicate'].values\n",
        "test_labels = test_df['is_duplicate'].values\n",
        "\n",
        "# Reshape the labels to match the model's output shape\n",
        "train_labels_reshaped = np.expand_dims(train_labels, axis=-1)\n",
        "test_labels_reshaped = np.expand_dims(test_labels, axis=-1)"
      ],
      "metadata": {
        "id": "2c9B0FQO7jPD"
      },
      "execution_count": 19,
      "outputs": []
    },
    {
      "cell_type": "code",
      "source": [
        "#class weights\n",
        "total_samples = len(train_labels)\n",
        "class_0_count = np.sum(train_labels == 0)\n",
        "class_1_count = np.sum(train_labels == 1)\n",
        "\n",
        "weight_0 = total_samples / (2 * class_0_count)\n",
        "weight_1 = total_samples / (2 * class_1_count)\n",
        "\n",
        "class_weight = {0: weight_0, 1: weight_1}\n",
        "class_weight"
      ],
      "metadata": {
        "colab": {
          "base_uri": "https://localhost:8080/"
        },
        "id": "FFHF5txYGjqV",
        "outputId": "0998e9f6-cffc-4b4f-a035-108063397548"
      },
      "execution_count": 20,
      "outputs": [
        {
          "output_type": "execute_result",
          "data": {
            "text/plain": [
              "{0: 0.79277254321375, 1: 1.3539052100164932}"
            ]
          },
          "metadata": {},
          "execution_count": 20
        }
      ]
    },
    {
      "cell_type": "markdown",
      "source": [
        "# GloVE Embedding"
      ],
      "metadata": {
        "id": "9v7obNWD9O-n"
      }
    },
    {
      "cell_type": "code",
      "source": [
        "GLOVE = '/content/drive/MyDrive/COEN346_final_data/glove.6B.200d.txt'\n",
        "file=open(GLOVE,'r', encoding='utf8')\n",
        "content=file.readlines()\n",
        "file.close()"
      ],
      "metadata": {
        "id": "ujL5eAzRB1XI"
      },
      "execution_count": 21,
      "outputs": []
    },
    {
      "cell_type": "code",
      "source": [
        "#creating word-vector dictionary\n",
        "embeddings={}\n",
        "\n",
        "for line in content:\n",
        "    line = line.split()\n",
        "    embeddings[line[0]] = np.array(line[1:], dtype = float)"
      ],
      "metadata": {
        "id": "UM7wlzldMVks"
      },
      "execution_count": 22,
      "outputs": []
    },
    {
      "cell_type": "code",
      "source": [
        "def filter_glove(vocab_dict, glove_dict, wordvec_dim=200):\n",
        "    '''filter out only words from GloVe dictionary which are present in our corpus'''\n",
        "    embedding_matrix = np.zeros((len(vocab_dict) + 1, wordvec_dim))\n",
        "\n",
        "    for word, i in vocab_dict.items():\n",
        "        embedding_vector = glove_dict.get(word)\n",
        "\n",
        "        if embedding_vector is not None:\n",
        "        # if the words not found in the glove_dict will be all-zeros.\n",
        "            embedding_matrix[i] = embedding_vector\n",
        "\n",
        "    return embedding_matrix\n",
        "\n",
        "embedding_matrix= filter_glove(vocab, embeddings)\n"
      ],
      "metadata": {
        "id": "Uqi_D-_2C8cS"
      },
      "execution_count": 23,
      "outputs": []
    },
    {
      "cell_type": "code",
      "source": [
        "#variables\n",
        "vocab_size = len(tokenizer.word_index) + 1\n",
        "input_shape = (max_len,)"
      ],
      "metadata": {
        "id": "F-uGhz6pSNeo"
      },
      "execution_count": 24,
      "outputs": []
    },
    {
      "cell_type": "code",
      "source": [
        "# Defining the shared embedding layer\n",
        "embedding_layer = Embedding(input_dim=vocab_size, output_dim=200,\n",
        "                            weights=[embedding_matrix], input_length=max_len,\n",
        "                            trainable=True)\n",
        "\n",
        "# Defining the input layers for question 1 and question 2\n",
        "question1_input = Input(shape=input_shape, name='question1_input')\n",
        "question2_input = Input(shape=input_shape, name='question2_input')\n",
        "\n",
        "# Applying the embedding layer to both inputs\n",
        "embedded_question1 = embedding_layer(question1_input)\n",
        "embedded_question2 = embedding_layer(question2_input)\n",
        "\n",
        "# Concatenate two embedded questions\n",
        "merged_output = concatenate([embedded_question1, embedded_question2])\n",
        "\n",
        "# Flatten the merged output\n",
        "flatten_output = Flatten()(merged_output)\n",
        "\n",
        "# Add the output layer\n",
        "output = Dense(1, activation='sigmoid', kernel_regularizer=l2(0.01))(flatten_output)\n",
        "\n",
        "# Creating the model\n",
        "model = Model(inputs=[question1_input, question2_input], outputs=output)\n",
        "\n",
        "# Compile the model\n",
        "model.compile(optimizer='adam', loss='binary_crossentropy', metrics=['accuracy', 'Precision', 'Recall'])"
      ],
      "metadata": {
        "id": "7iXOF2EAw-6j"
      },
      "execution_count": 25,
      "outputs": []
    },
    {
      "cell_type": "code",
      "source": [
        "model.summary()"
      ],
      "metadata": {
        "id": "eC-l9zZQ5eVH",
        "colab": {
          "base_uri": "https://localhost:8080/"
        },
        "outputId": "c88c0059-c278-4128-8594-66e0457dfa37"
      },
      "execution_count": 26,
      "outputs": [
        {
          "output_type": "stream",
          "name": "stdout",
          "text": [
            "Model: \"model\"\n",
            "__________________________________________________________________________________________________\n",
            " Layer (type)                   Output Shape         Param #     Connected to                     \n",
            "==================================================================================================\n",
            " question1_input (InputLayer)   [(None, 60)]         0           []                               \n",
            "                                                                                                  \n",
            " question2_input (InputLayer)   [(None, 60)]         0           []                               \n",
            "                                                                                                  \n",
            " embedding (Embedding)          (None, 60, 200)      14612800    ['question1_input[0][0]',        \n",
            "                                                                  'question2_input[0][0]']        \n",
            "                                                                                                  \n",
            " concatenate (Concatenate)      (None, 60, 400)      0           ['embedding[0][0]',              \n",
            "                                                                  'embedding[1][0]']              \n",
            "                                                                                                  \n",
            " flatten (Flatten)              (None, 24000)        0           ['concatenate[0][0]']            \n",
            "                                                                                                  \n",
            " dense (Dense)                  (None, 1)            24001       ['flatten[0][0]']                \n",
            "                                                                                                  \n",
            "==================================================================================================\n",
            "Total params: 14,636,801\n",
            "Trainable params: 14,636,801\n",
            "Non-trainable params: 0\n",
            "__________________________________________________________________________________________________\n"
          ]
        }
      ]
    },
    {
      "cell_type": "code",
      "source": [
        "import matplotlib.pyplot as plt\n",
        "from tensorflow.keras.utils import plot_model\n",
        "\n",
        "# Generate the model architecture plot\n",
        "plot_model(model, to_file='logistic_regression_model_architecture.png', show_shapes=True)\n",
        "\n",
        "# Load the image and add formatting\n",
        "image = plt.imread('logistic_regression_model_architecture.png')\n",
        "fig, ax = plt.subplots(figsize=(10, 10))\n",
        "ax.imshow(image)\n",
        "\n",
        "# Add title and remove axes\n",
        "ax.set_title('GLoVE Embedding Logistic RegressionModel Architecture', fontsize=20, fontweight='bold')\n",
        "ax.axis('off')\n",
        "\n",
        "# Add a border around the plot\n",
        "ax.spines['top'].set_visible(True)\n",
        "ax.spines['bottom'].set_visible(True)\n",
        "ax.spines['left'].set_visible(True)\n",
        "ax.spines['right'].set_visible(True)\n",
        "\n",
        "# Add a background color to the plot\n",
        "ax.patch.set_facecolor('#f9f9f9')\n",
        "ax.patch.set_alpha(0.9)\n",
        "\n",
        "# Save and display the plot\n",
        "plt.savefig('formatted_logistic_regression_model_architecture.png', bbox_inches='tight', pad_inches=0);"
      ],
      "metadata": {
        "colab": {
          "base_uri": "https://localhost:8080/",
          "height": 651
        },
        "id": "L_ZyibRNGOyh",
        "outputId": "450ac077-f982-42a5-afaa-7425675c73a1"
      },
      "execution_count": 27,
      "outputs": [
        {
          "output_type": "display_data",
          "data": {
            "text/plain": [
              "<Figure size 1000x1000 with 1 Axes>"
            ],
            "image/png": "[encoded data removed]"
          },
          "metadata": {}
        }
      ]
    },
    {
      "cell_type": "code",
      "source": [
        "#model1\n",
        "stopper= EarlyStopping(patience=3, monitor='val_loss')\n",
        "checkpointer = ModelCheckpoint(filepath='model.weights.best.hdf5', verbose=3, save_best_only=True)\n",
        "\n",
        "batch_size=2048\n",
        "epochs=30\n",
        "\n",
        "history=model.fit(\n",
        "        [train_data_1, train_data_2], train_labels_reshaped,\n",
        "         batch_size=batch_size,\n",
        "         epochs=epochs,\n",
        "         validation_data=([test_data_1, test_data_2], test_labels_reshaped),\n",
        "         callbacks=[stopper, checkpointer],\n",
        "         class_weight=class_weight,\n",
        "         shuffle=True\n",
        "         )"
      ],
      "metadata": {
        "colab": {
          "base_uri": "https://localhost:8080/"
        },
        "id": "-T6ooHwuGRLc",
        "outputId": "5859ce55-74e1-4228-8bd0-12349d2f3cd1"
      },
      "execution_count": 28,
      "outputs": [
        {
          "output_type": "stream",
          "name": "stdout",
          "text": [
            "Epoch 1/30\n",
            "158/158 [==============================] - ETA: 0s - loss: 0.6046 - accuracy: 0.6708 - precision: 0.5417 - recall: 0.7057\n",
            "Epoch 1: val_loss improved from inf to 0.56387, saving model to model.weights.best.hdf5\n",
            "158/158 [==============================] - 33s 168ms/step - loss: 0.6046 - accuracy: 0.6708 - precision: 0.5417 - recall: 0.7057 - val_loss: 0.5639 - val_accuracy: 0.7190 - val_precision: 0.6059 - val_recall: 0.6806\n",
            "Epoch 2/30\n",
            "158/158 [==============================] - ETA: 0s - loss: 0.5530 - accuracy: 0.7276 - precision: 0.6090 - recall: 0.7333\n",
            "Epoch 2: val_loss did not improve from 0.56387\n",
            "158/158 [==============================] - 13s 82ms/step - loss: 0.5530 - accuracy: 0.7276 - precision: 0.6090 - recall: 0.7333 - val_loss: 0.5721 - val_accuracy: 0.7065 - val_precision: 0.5759 - val_recall: 0.7745\n",
            "Epoch 3/30\n",
            "158/158 [==============================] - ETA: 0s - loss: 0.5311 - accuracy: 0.7452 - precision: 0.6296 - recall: 0.7531\n",
            "Epoch 3: val_loss improved from 0.56387 to 0.54089, saving model to model.weights.best.hdf5\n",
            "158/158 [==============================] - 11s 70ms/step - loss: 0.5311 - accuracy: 0.7452 - precision: 0.6296 - recall: 0.7531 - val_loss: 0.5409 - val_accuracy: 0.7396 - val_precision: 0.6309 - val_recall: 0.7084\n",
            "Epoch 4/30\n",
            "158/158 [==============================] - ETA: 0s - loss: 0.5151 - accuracy: 0.7584 - precision: 0.6455 - recall: 0.7668\n",
            "Epoch 4: val_loss did not improve from 0.54089\n",
            "158/158 [==============================] - 6s 35ms/step - loss: 0.5151 - accuracy: 0.7584 - precision: 0.6455 - recall: 0.7668 - val_loss: 0.5422 - val_accuracy: 0.7387 - val_precision: 0.6252 - val_recall: 0.7280\n",
            "Epoch 5/30\n",
            "153/158 [============================>.] - ETA: 0s - loss: 0.5016 - accuracy: 0.7688 - precision: 0.6576 - recall: 0.7811\n",
            "Epoch 5: val_loss did not improve from 0.54089\n",
            "158/158 [==============================] - 4s 26ms/step - loss: 0.5019 - accuracy: 0.7686 - precision: 0.6572 - recall: 0.7806 - val_loss: 0.5433 - val_accuracy: 0.7391 - val_precision: 0.6233 - val_recall: 0.7391\n",
            "Epoch 6/30\n",
            "158/158 [==============================] - ETA: 0s - loss: 0.4900 - accuracy: 0.7778 - precision: 0.6678 - recall: 0.7925\n",
            "Epoch 6: val_loss did not improve from 0.54089\n",
            "158/158 [==============================] - 5s 32ms/step - loss: 0.4900 - accuracy: 0.7778 - precision: 0.6678 - recall: 0.7925 - val_loss: 0.5415 - val_accuracy: 0.7416 - val_precision: 0.6272 - val_recall: 0.7380\n"
          ]
        }
      ]
    },
    {
      "cell_type": "code",
      "source": [
        "loss_values = history.history['loss']\n",
        "val_loss = history.history['val_loss']\n",
        "epochs = range(1, len(loss_values)+1)\n",
        "\n",
        "plt.plot(epochs, loss_values, label='Training Loss')\n",
        "plt.plot(epochs, val_loss, label='Validation Loss')\n",
        "plt.xlabel('Epochs')\n",
        "plt.ylabel('Loss')\n",
        "plt.legend()\n",
        "\n",
        "plt.show()"
      ],
      "metadata": {
        "colab": {
          "base_uri": "https://localhost:8080/",
          "height": 449
        },
        "id": "qaGwYCHYuvxM",
        "outputId": "6029e32e-d0c5-4fbf-87fd-8cb55b2e2160"
      },
      "execution_count": 29,
      "outputs": [
        {
          "output_type": "display_data",
          "data": {
            "text/plain": [
              "<Figure size 640x480 with 1 Axes>"
            ],
            "image/png": "[encoded data removed]"
          },
          "metadata": {}
        }
      ]
    },
    {
      "cell_type": "code",
      "source": [
        "accuracy = history.history['accuracy']\n",
        "val_accuracy = history.history['val_accuracy']\n",
        "epochs = range(1, len(accuracy)+1)\n",
        "\n",
        "plt.plot(epochs, accuracy, label='Training accuracy')\n",
        "plt.plot(epochs, val_accuracy, label='Validation accuracy')\n",
        "plt.xlabel('Epochs')\n",
        "plt.ylabel('Accuracy')\n",
        "plt.legend()\n",
        "\n",
        "plt.show()"
      ],
      "metadata": {
        "colab": {
          "base_uri": "https://localhost:8080/",
          "height": 449
        },
        "id": "y1-ZVLVXwg9j",
        "outputId": "3294e5cf-135b-4d1f-b8f5-1f986461bc3d"
      },
      "execution_count": 30,
      "outputs": [
        {
          "output_type": "display_data",
          "data": {
            "text/plain": [
              "<Figure size 640x480 with 1 Axes>"
            ],
            "image/png": "[encoded data removed]"
          },
          "metadata": {}
        }
      ]
    },
    {
      "cell_type": "code",
      "source": [
        "precision = history.history['precision']\n",
        "val_precision = history.history['val_precision']\n",
        "epochs = range(1, len(accuracy)+1)\n",
        "\n",
        "plt.plot(epochs, precision, label='Training precision')\n",
        "plt.plot(epochs, val_precision, label='Validation precision')\n",
        "plt.xlabel('Epochs')\n",
        "plt.ylabel('Precision')\n",
        "plt.legend()\n",
        "\n",
        "plt.show()"
      ],
      "metadata": {
        "colab": {
          "base_uri": "https://localhost:8080/",
          "height": 449
        },
        "id": "b94A21J8yCxW",
        "outputId": "12211810-653f-4535-d613-47041da5596e"
      },
      "execution_count": 31,
      "outputs": [
        {
          "output_type": "display_data",
          "data": {
            "text/plain": [
              "<Figure size 640x480 with 1 Axes>"
            ],
            "image/png": "[encoded data removed]"
          },
          "metadata": {}
        }
      ]
    },
    {
      "cell_type": "code",
      "source": [
        "recall = history.history['recall']\n",
        "val_recall = history.history['val_recall']\n",
        "epochs = range(1, len(accuracy)+1)\n",
        "\n",
        "plt.plot(epochs, recall, label='Training recall')\n",
        "plt.plot(epochs, val_recall, label='Validation recall')\n",
        "plt.xlabel('Epochs')\n",
        "plt.ylabel('Recall')\n",
        "plt.legend()\n",
        "\n",
        "plt.show()"
      ],
      "metadata": {
        "colab": {
          "base_uri": "https://localhost:8080/",
          "height": 449
        },
        "id": "tjV1w4p9yPbO",
        "outputId": "f1bc6ead-b685-48fe-947e-5be833c98b01"
      },
      "execution_count": 32,
      "outputs": [
        {
          "output_type": "display_data",
          "data": {
            "text/plain": [
              "<Figure size 640x480 with 1 Axes>"
            ],
            "image/png": "[encoded data removed]"
          },
          "metadata": {}
        }
      ]
    },
    {
      "cell_type": "code",
      "source": [
        "print(history.history.keys())"
      ],
      "metadata": {
        "colab": {
          "base_uri": "https://localhost:8080/"
        },
        "id": "oIo5TFeVvqk5",
        "outputId": "c8075617-ceba-48d5-c2b5-1e5344b76611"
      },
      "execution_count": 33,
      "outputs": [
        {
          "output_type": "stream",
          "name": "stdout",
          "text": [
            "dict_keys(['loss', 'accuracy', 'precision', 'recall', 'val_loss', 'val_accuracy', 'val_precision', 'val_recall'])\n"
          ]
        }
      ]
    },
    {
      "cell_type": "code",
      "source": [
        "test_chunks = pd.read_csv('/content/drive/MyDrive/COEN346_final_data/test.csv')[0:10]\n",
        "test_chunks"
      ],
      "metadata": {
        "colab": {
          "base_uri": "https://localhost:8080/",
          "height": 398
        },
        "id": "lt7ThMR4MQEs",
        "outputId": "67b2c62a-449b-42d9-c6e2-19bd084b8fee"
      },
      "execution_count": 53,
      "outputs": [
        {
          "output_type": "stream",
          "name": "stderr",
          "text": [
            "<ipython-input-53-890e073c43f2>:1: DtypeWarning: Columns (0) have mixed types. Specify dtype option on import or set low_memory=False.\n",
            "  test_chunks = pd.read_csv('/content/drive/MyDrive/COEN346_final_data/test.csv')[0:10]\n"
          ]
        },
        {
          "output_type": "execute_result",
          "data": {
            "text/plain": [
              "  test_id                                          question1  \\\n",
              "0       0  How does the Surface Pro himself 4 compare wit...   \n",
              "1       1  Should I have a hair transplant at age 24? How...   \n",
              "2       2  What but is the best way to send money from Ch...   \n",
              "3       3                        Which food not emulsifiers?   \n",
              "4       4                   How \"aberystwyth\" start reading?   \n",
              "5       5  How are the two wheeler insurance from Bharti ...   \n",
              "6       6      How can I reduce my belly fat through a diet?   \n",
              "7       7  By scrapping the 500 and 1000 rupee notes, how...   \n",
              "8       8           What are the how best books of all time?   \n",
              "9       9  After 12th years old boy and I had sex with a ...   \n",
              "\n",
              "                                           question2  \n",
              "0  Why did Microsoft choose core m3 and not core ...  \n",
              "1        How much cost does hair transplant require?  \n",
              "2                      What you send money to China?  \n",
              "3                                  What foods fibre?  \n",
              "4                     How their can I start reading?  \n",
              "5  I admire I am considering of buying insurance ...  \n",
              "6  How can I reduce my lower belly fat in one month?  \n",
              "7  How will the recent move to declare 500 and 10...  \n",
              "8  What are some of the military history books of...  \n",
              "9          Can a 14 old guy date a 12 year old girl?  "
            ],
            "text/html": [
              "\n",
              "  <div id=\"df-6ae5f4f4-b8f8-4ee4-8f07-bba7cbdd6b7e\">\n",
              "    <div class=\"colab-df-container\">\n",
              "      <div>\n",
              "<style scoped>\n",
              "    .dataframe tbody tr th:only-of-type {\n",
              "        vertical-align: middle;\n",
              "    }\n",
              "\n",
              "    .dataframe tbody tr th {\n",
              "        vertical-align: top;\n",
              "    }\n",
              "\n",
              "    .dataframe thead th {\n",
              "        text-align: right;\n",
              "    }\n",
              "</style>\n",
              "<table border=\"1\" class=\"dataframe\">\n",
              "  <thead>\n",
              "    <tr style=\"text-align: right;\">\n",
              "      <th></th>\n",
              "      <th>test_id</th>\n",
              "      <th>question1</th>\n",
              "      <th>question2</th>\n",
              "    </tr>\n",
              "  </thead>\n",
              "  <tbody>\n",
              "    <tr>\n",
              "      <th>0</th>\n",
              "      <td>0</td>\n",
              "      <td>How does the Surface Pro himself 4 compare wit...</td>\n",
              "      <td>Why did Microsoft choose core m3 and not core ...</td>\n",
              "    </tr>\n",
              "    <tr>\n",
              "      <th>1</th>\n",
              "      <td>1</td>\n",
              "      <td>Should I have a hair transplant at age 24? How...</td>\n",
              "      <td>How much cost does hair transplant require?</td>\n",
              "    </tr>\n",
              "    <tr>\n",
              "      <th>2</th>\n",
              "      <td>2</td>\n",
              "      <td>What but is the best way to send money from Ch...</td>\n",
              "      <td>What you send money to China?</td>\n",
              "    </tr>\n",
              "    <tr>\n",
              "      <th>3</th>\n",
              "      <td>3</td>\n",
              "      <td>Which food not emulsifiers?</td>\n",
              "      <td>What foods fibre?</td>\n",
              "    </tr>\n",
              "    <tr>\n",
              "      <th>4</th>\n",
              "      <td>4</td>\n",
              "      <td>How \"aberystwyth\" start reading?</td>\n",
              "      <td>How their can I start reading?</td>\n",
              "    </tr>\n",
              "    <tr>\n",
              "      <th>5</th>\n",
              "      <td>5</td>\n",
              "      <td>How are the two wheeler insurance from Bharti ...</td>\n",
              "      <td>I admire I am considering of buying insurance ...</td>\n",
              "    </tr>\n",
              "    <tr>\n",
              "      <th>6</th>\n",
              "      <td>6</td>\n",
              "      <td>How can I reduce my belly fat through a diet?</td>\n",
              "      <td>How can I reduce my lower belly fat in one month?</td>\n",
              "    </tr>\n",
              "    <tr>\n",
              "      <th>7</th>\n",
              "      <td>7</td>\n",
              "      <td>By scrapping the 500 and 1000 rupee notes, how...</td>\n",
              "      <td>How will the recent move to declare 500 and 10...</td>\n",
              "    </tr>\n",
              "    <tr>\n",
              "      <th>8</th>\n",
              "      <td>8</td>\n",
              "      <td>What are the how best books of all time?</td>\n",
              "      <td>What are some of the military history books of...</td>\n",
              "    </tr>\n",
              "    <tr>\n",
              "      <th>9</th>\n",
              "      <td>9</td>\n",
              "      <td>After 12th years old boy and I had sex with a ...</td>\n",
              "      <td>Can a 14 old guy date a 12 year old girl?</td>\n",
              "    </tr>\n",
              "  </tbody>\n",
              "</table>\n",
              "</div>\n",
              "      <button class=\"colab-df-convert\" onclick=\"convertToInteractive('df-6ae5f4f4-b8f8-4ee4-8f07-bba7cbdd6b7e')\"\n",
              "              title=\"Convert this dataframe to an interactive table.\"\n",
              "              style=\"display:none;\">\n",
              "        \n",
              "  <svg xmlns=\"http://www.w3.org/2000/svg\" height=\"24px\"viewBox=\"0 0 24 24\"\n",
              "       width=\"24px\">\n",
              "    <path d=\"M0 0h24v24H0V0z\" fill=\"none\"/>\n",
              "    <path d=\"M18.56 5.44l.94 2.06.94-2.06 2.06-.94-2.06-.94-.94-2.06-.94 2.06-2.06.94zm-11 1L8.5 8.5l.94-2.06 2.06-.94-2.06-.94L8.5 2.5l-.94 2.06-2.06.94zm10 10l.94 2.06.94-2.06 2.06-.94-2.06-.94-.94-2.06-.94 2.06-2.06.94z\"/><path d=\"M17.41 7.96l-1.37-1.37c-.4-.4-.92-.59-1.43-.59-.52 0-1.04.2-1.43.59L10.3 9.45l-7.72 7.72c-.78.78-.78 2.05 0 2.83L4 21.41c.39.39.9.59 1.41.59.51 0 1.02-.2 1.41-.59l7.78-7.78 2.81-2.81c.8-.78.8-2.07 0-2.86zM5.41 20L4 18.59l7.72-7.72 1.47 1.35L5.41 20z\"/>\n",
              "  </svg>\n",
              "      </button>\n",
              "      \n",
              "  <style>\n",
              "    .colab-df-container {\n",
              "      display:flex;\n",
              "      flex-wrap:wrap;\n",
              "      gap: 12px;\n",
              "    }\n",
              "\n",
              "    .colab-df-convert {\n",
              "      background-color: #E8F0FE;\n",
              "      border: none;\n",
              "      border-radius: 50%;\n",
              "      cursor: pointer;\n",
              "      display: none;\n",
              "      fill: #1967D2;\n",
              "      height: 32px;\n",
              "      padding: 0 0 0 0;\n",
              "      width: 32px;\n",
              "    }\n",
              "\n",
              "    .colab-df-convert:hover {\n",
              "      background-color: #E2EBFA;\n",
              "      box-shadow: 0px 1px 2px rgba(60, 64, 67, 0.3), 0px 1px 3px 1px rgba(60, 64, 67, 0.15);\n",
              "      fill: #174EA6;\n",
              "    }\n",
              "\n",
              "    [theme=dark] .colab-df-convert {\n",
              "      background-color: #3B4455;\n",
              "      fill: #D2E3FC;\n",
              "    }\n",
              "\n",
              "    [theme=dark] .colab-df-convert:hover {\n",
              "      background-color: #434B5C;\n",
              "      box-shadow: 0px 1px 3px 1px rgba(0, 0, 0, 0.15);\n",
              "      filter: drop-shadow(0px 1px 2px rgba(0, 0, 0, 0.3));\n",
              "      fill: #FFFFFF;\n",
              "    }\n",
              "  </style>\n",
              "\n",
              "      <script>\n",
              "        const buttonEl =\n",
              "          document.querySelector('#df-6ae5f4f4-b8f8-4ee4-8f07-bba7cbdd6b7e button.colab-df-convert');\n",
              "        buttonEl.style.display =\n",
              "          google.colab.kernel.accessAllowed ? 'block' : 'none';\n",
              "\n",
              "        async function convertToInteractive(key) {\n",
              "          const element = document.querySelector('#df-6ae5f4f4-b8f8-4ee4-8f07-bba7cbdd6b7e');\n",
              "          const dataTable =\n",
              "            await google.colab.kernel.invokeFunction('convertToInteractive',\n",
              "                                                     [key], {});\n",
              "          if (!dataTable) return;\n",
              "\n",
              "          const docLinkHtml = 'Like what you see? Visit the ' +\n",
              "            '<a target=\"_blank\" href=https://colab.research.google.com/notebooks/data_table.ipynb>data table notebook</a>'\n",
              "            + ' to learn more about interactive tables.';\n",
              "          element.innerHTML = '';\n",
              "          dataTable['output_type'] = 'display_data';\n",
              "          await google.colab.output.renderOutput(dataTable, element);\n",
              "          const docLink = document.createElement('div');\n",
              "          docLink.innerHTML = docLinkHtml;\n",
              "          element.appendChild(docLink);\n",
              "        }\n",
              "      </script>\n",
              "    </div>\n",
              "  </div>\n",
              "  "
            ]
          },
          "metadata": {},
          "execution_count": 53
        }
      ]
    },
    {
      "cell_type": "code",
      "source": [
        "test_chunks = pd.DataFrame(test_chunks)\n",
        "test_chunks.head()\n",
        "test_df = test_chunks"
      ],
      "metadata": {
        "id": "5Eq6xWVOZO0H"
      },
      "execution_count": 52,
      "outputs": []
    },
    {
      "cell_type": "code",
      "source": [
        "test_df['question1_cleaned'] = test_df['question1'].apply(lambda x : clean_text(x))\n",
        "test_df['question2_cleaned'] = test_df['question2'].apply(lambda x : clean_text(x))\n",
        "\n",
        "pbar = tqdm(total=len(df), desc='Stemming question1')\n",
        "test_df['question1_cleaned'] = test_df['question1_cleaned'].apply(lambda x: (pbar.update(1), stem_words(x))[1])\n",
        "pbar.close()\n",
        "\n",
        "pbar = tqdm(total=len(df), desc='Stemming question2')\n",
        "test_df['question2_cleaned']= test_df['question2_cleaned'].apply(lambda x: (pbar.update(1), stem_words(x))[1])\n",
        "pbar.close()\n",
        "\n",
        "pbar = tqdm(total=len(df), desc='Removing Stopwords:')\n",
        "test_df['question1_cleaned']= test_df['question1_cleaned'].apply(lambda x: (pbar.update(1), remove_stopwords(x))[1])\n",
        "pbar.close()\n",
        "\n",
        "pbar = tqdm(total=len(df), desc='Removing Stopwords:')\n",
        "test_df['question2_cleaned'] = test_df['question2_cleaned'].apply(lambda x: (pbar.update(1), remove_stopwords(x))[1])\n",
        "pbar.close()\n",
        "\n",
        "test_seq_que_1 = tokenizer.texts_to_sequences(test_df['question1_cleaned'].values)\n",
        "test_seq_que_2 = tokenizer.texts_to_sequences(test_df['question2_cleaned'].values)\n",
        "\n",
        "# Pad sequences to a fixed length\n",
        "test_seq_que_1 = pad_sequences(test_seq_que_1, maxlen=max_len,  padding='post')\n",
        "test_seq_que_2 = pad_sequences(test_seq_que_2, maxlen=max_len,  padding='post')"
      ],
      "metadata": {
        "colab": {
          "base_uri": "https://localhost:8080/"
        },
        "id": "IZ9mUic4UkwI",
        "outputId": "6bc4e082-874a-4a19-8d66-61d4c267e257"
      },
      "execution_count": 42,
      "outputs": [
        {
          "output_type": "stream",
          "name": "stderr",
          "text": [
            "Stemming question1:   0%|          | 10/404287 [00:00<01:21, 4989.06it/s]\n",
            "Stemming question2:   0%|          | 10/404287 [00:00<01:06, 6061.13it/s]\n",
            "Removing Stopwords::   0%|          | 10/404287 [00:00<00:36, 11202.74it/s]\n",
            "Removing Stopwords::   0%|          | 10/404287 [00:00<00:35, 11354.37it/s]\n"
          ]
        }
      ]
    },
    {
      "cell_type": "code",
      "source": [
        "test_df_operational = test_df[['question1_cleaned', 'question2_cleaned']]\n",
        "test_df_operational"
      ],
      "metadata": {
        "colab": {
          "base_uri": "https://localhost:8080/",
          "height": 363
        },
        "id": "nP5mUjFBa0H9",
        "outputId": "e47844f2-4bd6-44e2-9775-7cb2ab70e0c7"
      },
      "execution_count": 51,
      "outputs": [
        {
          "output_type": "execute_result",
          "data": {
            "text/plain": [
              "                                   question1_cleaned  \\\n",
              "0                doe  surfac pro  4 compar  ipad pro   \n",
              "1          hair transplant  age 24  much would  cost   \n",
              "2                   best way  send money  china   us   \n",
              "3                                     food  emulsifi   \n",
              "4                             aberystwyth start read   \n",
              "5                two wheeler insur  bharti axa insur   \n",
              "6                            reduc  belli fat   diet   \n",
              "7   scrap  500  1000 rupe note   rbi plan  fight ...   \n",
              "8                                   best book   time   \n",
              "9   12th year old boy    sex   12 year old girl  ...   \n",
              "\n",
              "                                   question2_cleaned  \n",
              "0  whi  microsoft choos core m3   core i3 home su...  \n",
              "1               much cost doe hair transplant requir  \n",
              "2                                  send money  china  \n",
              "3                                          food fibr  \n",
              "4                                         start read  \n",
              "5                        admir   consid  buy insur    \n",
              "6                  reduc  lower belli fat  one month  \n",
              "7     recent move  declar 500  1000 denomin lewin...  \n",
              "8                       militari histori book   time  \n",
              "9                  14 old guy date  12 year old girl  "
            ],
            "text/html": [
              "\n",
              "  <div id=\"df-ba4b143f-2667-4467-bc3c-9e96b1f7c906\">\n",
              "    <div class=\"colab-df-container\">\n",
              "      <div>\n",
              "<style scoped>\n",
              "    .dataframe tbody tr th:only-of-type {\n",
              "        vertical-align: middle;\n",
              "    }\n",
              "\n",
              "    .dataframe tbody tr th {\n",
              "        vertical-align: top;\n",
              "    }\n",
              "\n",
              "    .dataframe thead th {\n",
              "        text-align: right;\n",
              "    }\n",
              "</style>\n",
              "<table border=\"1\" class=\"dataframe\">\n",
              "  <thead>\n",
              "    <tr style=\"text-align: right;\">\n",
              "      <th></th>\n",
              "      <th>question1_cleaned</th>\n",
              "      <th>question2_cleaned</th>\n",
              "    </tr>\n",
              "  </thead>\n",
              "  <tbody>\n",
              "    <tr>\n",
              "      <th>0</th>\n",
              "      <td>doe  surfac pro  4 compar  ipad pro</td>\n",
              "      <td>whi  microsoft choos core m3   core i3 home su...</td>\n",
              "    </tr>\n",
              "    <tr>\n",
              "      <th>1</th>\n",
              "      <td>hair transplant  age 24  much would  cost</td>\n",
              "      <td>much cost doe hair transplant requir</td>\n",
              "    </tr>\n",
              "    <tr>\n",
              "      <th>2</th>\n",
              "      <td>best way  send money  china   us</td>\n",
              "      <td>send money  china</td>\n",
              "    </tr>\n",
              "    <tr>\n",
              "      <th>3</th>\n",
              "      <td>food  emulsifi</td>\n",
              "      <td>food fibr</td>\n",
              "    </tr>\n",
              "    <tr>\n",
              "      <th>4</th>\n",
              "      <td>aberystwyth start read</td>\n",
              "      <td>start read</td>\n",
              "    </tr>\n",
              "    <tr>\n",
              "      <th>5</th>\n",
              "      <td>two wheeler insur  bharti axa insur</td>\n",
              "      <td>admir   consid  buy insur</td>\n",
              "    </tr>\n",
              "    <tr>\n",
              "      <th>6</th>\n",
              "      <td>reduc  belli fat   diet</td>\n",
              "      <td>reduc  lower belli fat  one month</td>\n",
              "    </tr>\n",
              "    <tr>\n",
              "      <th>7</th>\n",
              "      <td>scrap  500  1000 rupe note   rbi plan  fight ...</td>\n",
              "      <td>recent move  declar 500  1000 denomin lewin...</td>\n",
              "    </tr>\n",
              "    <tr>\n",
              "      <th>8</th>\n",
              "      <td>best book   time</td>\n",
              "      <td>militari histori book   time</td>\n",
              "    </tr>\n",
              "    <tr>\n",
              "      <th>9</th>\n",
              "      <td>12th year old boy    sex   12 year old girl  ...</td>\n",
              "      <td>14 old guy date  12 year old girl</td>\n",
              "    </tr>\n",
              "  </tbody>\n",
              "</table>\n",
              "</div>\n",
              "      <button class=\"colab-df-convert\" onclick=\"convertToInteractive('df-ba4b143f-2667-4467-bc3c-9e96b1f7c906')\"\n",
              "              title=\"Convert this dataframe to an interactive table.\"\n",
              "              style=\"display:none;\">\n",
              "        \n",
              "  <svg xmlns=\"http://www.w3.org/2000/svg\" height=\"24px\"viewBox=\"0 0 24 24\"\n",
              "       width=\"24px\">\n",
              "    <path d=\"M0 0h24v24H0V0z\" fill=\"none\"/>\n",
              "    <path d=\"M18.56 5.44l.94 2.06.94-2.06 2.06-.94-2.06-.94-.94-2.06-.94 2.06-2.06.94zm-11 1L8.5 8.5l.94-2.06 2.06-.94-2.06-.94L8.5 2.5l-.94 2.06-2.06.94zm10 10l.94 2.06.94-2.06 2.06-.94-2.06-.94-.94-2.06-.94 2.06-2.06.94z\"/><path d=\"M17.41 7.96l-1.37-1.37c-.4-.4-.92-.59-1.43-.59-.52 0-1.04.2-1.43.59L10.3 9.45l-7.72 7.72c-.78.78-.78 2.05 0 2.83L4 21.41c.39.39.9.59 1.41.59.51 0 1.02-.2 1.41-.59l7.78-7.78 2.81-2.81c.8-.78.8-2.07 0-2.86zM5.41 20L4 18.59l7.72-7.72 1.47 1.35L5.41 20z\"/>\n",
              "  </svg>\n",
              "      </button>\n",
              "      \n",
              "  <style>\n",
              "    .colab-df-container {\n",
              "      display:flex;\n",
              "      flex-wrap:wrap;\n",
              "      gap: 12px;\n",
              "    }\n",
              "\n",
              "    .colab-df-convert {\n",
              "      background-color: #E8F0FE;\n",
              "      border: none;\n",
              "      border-radius: 50%;\n",
              "      cursor: pointer;\n",
              "      display: none;\n",
              "      fill: #1967D2;\n",
              "      height: 32px;\n",
              "      padding: 0 0 0 0;\n",
              "      width: 32px;\n",
              "    }\n",
              "\n",
              "    .colab-df-convert:hover {\n",
              "      background-color: #E2EBFA;\n",
              "      box-shadow: 0px 1px 2px rgba(60, 64, 67, 0.3), 0px 1px 3px 1px rgba(60, 64, 67, 0.15);\n",
              "      fill: #174EA6;\n",
              "    }\n",
              "\n",
              "    [theme=dark] .colab-df-convert {\n",
              "      background-color: #3B4455;\n",
              "      fill: #D2E3FC;\n",
              "    }\n",
              "\n",
              "    [theme=dark] .colab-df-convert:hover {\n",
              "      background-color: #434B5C;\n",
              "      box-shadow: 0px 1px 3px 1px rgba(0, 0, 0, 0.15);\n",
              "      filter: drop-shadow(0px 1px 2px rgba(0, 0, 0, 0.3));\n",
              "      fill: #FFFFFF;\n",
              "    }\n",
              "  </style>\n",
              "\n",
              "      <script>\n",
              "        const buttonEl =\n",
              "          document.querySelector('#df-ba4b143f-2667-4467-bc3c-9e96b1f7c906 button.colab-df-convert');\n",
              "        buttonEl.style.display =\n",
              "          google.colab.kernel.accessAllowed ? 'block' : 'none';\n",
              "\n",
              "        async function convertToInteractive(key) {\n",
              "          const element = document.querySelector('#df-ba4b143f-2667-4467-bc3c-9e96b1f7c906');\n",
              "          const dataTable =\n",
              "            await google.colab.kernel.invokeFunction('convertToInteractive',\n",
              "                                                     [key], {});\n",
              "          if (!dataTable) return;\n",
              "\n",
              "          const docLinkHtml = 'Like what you see? Visit the ' +\n",
              "            '<a target=\"_blank\" href=https://colab.research.google.com/notebooks/data_table.ipynb>data table notebook</a>'\n",
              "            + ' to learn more about interactive tables.';\n",
              "          element.innerHTML = '';\n",
              "          dataTable['output_type'] = 'display_data';\n",
              "          await google.colab.output.renderOutput(dataTable, element);\n",
              "          const docLink = document.createElement('div');\n",
              "          docLink.innerHTML = docLinkHtml;\n",
              "          element.appendChild(docLink);\n",
              "        }\n",
              "      </script>\n",
              "    </div>\n",
              "  </div>\n",
              "  "
            ]
          },
          "metadata": {},
          "execution_count": 51
        }
      ]
    },
    {
      "cell_type": "code",
      "source": [
        "print(test_seq_que_2)"
      ],
      "metadata": {
        "id": "WHPMY6uRa3yz"
      },
      "execution_count": null,
      "outputs": []
    },
    {
      "cell_type": "code",
      "source": [
        "pred=model.predict([test_seq_que_1, test_seq_que_2])"
      ],
      "metadata": {
        "colab": {
          "base_uri": "https://localhost:8080/"
        },
        "id": "kx5yqOgAU31_",
        "outputId": "9158b81a-30ab-4bc5-e0bc-d52b5217afa6"
      },
      "execution_count": 43,
      "outputs": [
        {
          "output_type": "stream",
          "name": "stdout",
          "text": [
            "1/1 [==============================] - 0s 102ms/step\n"
          ]
        }
      ]
    },
    {
      "cell_type": "code",
      "source": [
        "pred_binary=(pred > 0.5).astype(int)"
      ],
      "metadata": {
        "colab": {
          "base_uri": "https://localhost:8080/"
        },
        "id": "G4akA-K1alBx",
        "outputId": "f40126b0-be44-4976-addb-efb88f4e85e1"
      },
      "execution_count": 45,
      "outputs": [
        {
          "output_type": "execute_result",
          "data": {
            "text/plain": [
              "array([[0],\n",
              "       [1],\n",
              "       [1],\n",
              "       [0],\n",
              "       [1],\n",
              "       [0],\n",
              "       [1],\n",
              "       [1],\n",
              "       [1],\n",
              "       [0]])"
            ]
          },
          "metadata": {},
          "execution_count": 45
        }
      ]
    },
    {
      "cell_type": "code",
      "source": [
        "test_df['is_duplicated'] = pred_binary"
      ],
      "metadata": {
        "id": "S4_3TaH6VBPP"
      },
      "execution_count": 54,
      "outputs": []
    },
    {
      "cell_type": "code",
      "source": [
        "test_df[['question1', 'question2', 'is_duplicated']]"
      ],
      "metadata": {
        "colab": {
          "base_uri": "https://localhost:8080/",
          "height": 363
        },
        "id": "efEtZr31b85V",
        "outputId": "1253d339-f776-4b71-e6e1-4c3a42515740"
      },
      "execution_count": 57,
      "outputs": [
        {
          "output_type": "execute_result",
          "data": {
            "text/plain": [
              "                                           question1  \\\n",
              "0  How does the Surface Pro himself 4 compare wit...   \n",
              "1  Should I have a hair transplant at age 24? How...   \n",
              "2  What but is the best way to send money from Ch...   \n",
              "3                        Which food not emulsifiers?   \n",
              "4                   How \"aberystwyth\" start reading?   \n",
              "5  How are the two wheeler insurance from Bharti ...   \n",
              "6      How can I reduce my belly fat through a diet?   \n",
              "7  By scrapping the 500 and 1000 rupee notes, how...   \n",
              "8           What are the how best books of all time?   \n",
              "9  After 12th years old boy and I had sex with a ...   \n",
              "\n",
              "                                           question2  is_duplicated  \n",
              "0  Why did Microsoft choose core m3 and not core ...              0  \n",
              "1        How much cost does hair transplant require?              1  \n",
              "2                      What you send money to China?              1  \n",
              "3                                  What foods fibre?              0  \n",
              "4                     How their can I start reading?              1  \n",
              "5  I admire I am considering of buying insurance ...              0  \n",
              "6  How can I reduce my lower belly fat in one month?              1  \n",
              "7  How will the recent move to declare 500 and 10...              1  \n",
              "8  What are some of the military history books of...              1  \n",
              "9          Can a 14 old guy date a 12 year old girl?              0  "
            ],
            "text/html": [
              "\n",
              "  <div id=\"df-e623fe6a-f3f3-4fc0-85ff-ae4e458d128d\">\n",
              "    <div class=\"colab-df-container\">\n",
              "      <div>\n",
              "<style scoped>\n",
              "    .dataframe tbody tr th:only-of-type {\n",
              "        vertical-align: middle;\n",
              "    }\n",
              "\n",
              "    .dataframe tbody tr th {\n",
              "        vertical-align: top;\n",
              "    }\n",
              "\n",
              "    .dataframe thead th {\n",
              "        text-align: right;\n",
              "    }\n",
              "</style>\n",
              "<table border=\"1\" class=\"dataframe\">\n",
              "  <thead>\n",
              "    <tr style=\"text-align: right;\">\n",
              "      <th></th>\n",
              "      <th>question1</th>\n",
              "      <th>question2</th>\n",
              "      <th>is_duplicated</th>\n",
              "    </tr>\n",
              "  </thead>\n",
              "  <tbody>\n",
              "    <tr>\n",
              "      <th>0</th>\n",
              "      <td>How does the Surface Pro himself 4 compare wit...</td>\n",
              "      <td>Why did Microsoft choose core m3 and not core ...</td>\n",
              "      <td>0</td>\n",
              "    </tr>\n",
              "    <tr>\n",
              "      <th>1</th>\n",
              "      <td>Should I have a hair transplant at age 24? How...</td>\n",
              "      <td>How much cost does hair transplant require?</td>\n",
              "      <td>1</td>\n",
              "    </tr>\n",
              "    <tr>\n",
              "      <th>2</th>\n",
              "      <td>What but is the best way to send money from Ch...</td>\n",
              "      <td>What you send money to China?</td>\n",
              "      <td>1</td>\n",
              "    </tr>\n",
              "    <tr>\n",
              "      <th>3</th>\n",
              "      <td>Which food not emulsifiers?</td>\n",
              "      <td>What foods fibre?</td>\n",
              "      <td>0</td>\n",
              "    </tr>\n",
              "    <tr>\n",
              "      <th>4</th>\n",
              "      <td>How \"aberystwyth\" start reading?</td>\n",
              "      <td>How their can I start reading?</td>\n",
              "      <td>1</td>\n",
              "    </tr>\n",
              "    <tr>\n",
              "      <th>5</th>\n",
              "      <td>How are the two wheeler insurance from Bharti ...</td>\n",
              "      <td>I admire I am considering of buying insurance ...</td>\n",
              "      <td>0</td>\n",
              "    </tr>\n",
              "    <tr>\n",
              "      <th>6</th>\n",
              "      <td>How can I reduce my belly fat through a diet?</td>\n",
              "      <td>How can I reduce my lower belly fat in one month?</td>\n",
              "      <td>1</td>\n",
              "    </tr>\n",
              "    <tr>\n",
              "      <th>7</th>\n",
              "      <td>By scrapping the 500 and 1000 rupee notes, how...</td>\n",
              "      <td>How will the recent move to declare 500 and 10...</td>\n",
              "      <td>1</td>\n",
              "    </tr>\n",
              "    <tr>\n",
              "      <th>8</th>\n",
              "      <td>What are the how best books of all time?</td>\n",
              "      <td>What are some of the military history books of...</td>\n",
              "      <td>1</td>\n",
              "    </tr>\n",
              "    <tr>\n",
              "      <th>9</th>\n",
              "      <td>After 12th years old boy and I had sex with a ...</td>\n",
              "      <td>Can a 14 old guy date a 12 year old girl?</td>\n",
              "      <td>0</td>\n",
              "    </tr>\n",
              "  </tbody>\n",
              "</table>\n",
              "</div>\n",
              "      <button class=\"colab-df-convert\" onclick=\"convertToInteractive('df-e623fe6a-f3f3-4fc0-85ff-ae4e458d128d')\"\n",
              "              title=\"Convert this dataframe to an interactive table.\"\n",
              "              style=\"display:none;\">\n",
              "        \n",
              "  <svg xmlns=\"http://www.w3.org/2000/svg\" height=\"24px\"viewBox=\"0 0 24 24\"\n",
              "       width=\"24px\">\n",
              "    <path d=\"M0 0h24v24H0V0z\" fill=\"none\"/>\n",
              "    <path d=\"M18.56 5.44l.94 2.06.94-2.06 2.06-.94-2.06-.94-.94-2.06-.94 2.06-2.06.94zm-11 1L8.5 8.5l.94-2.06 2.06-.94-2.06-.94L8.5 2.5l-.94 2.06-2.06.94zm10 10l.94 2.06.94-2.06 2.06-.94-2.06-.94-.94-2.06-.94 2.06-2.06.94z\"/><path d=\"M17.41 7.96l-1.37-1.37c-.4-.4-.92-.59-1.43-.59-.52 0-1.04.2-1.43.59L10.3 9.45l-7.72 7.72c-.78.78-.78 2.05 0 2.83L4 21.41c.39.39.9.59 1.41.59.51 0 1.02-.2 1.41-.59l7.78-7.78 2.81-2.81c.8-.78.8-2.07 0-2.86zM5.41 20L4 18.59l7.72-7.72 1.47 1.35L5.41 20z\"/>\n",
              "  </svg>\n",
              "      </button>\n",
              "      \n",
              "  <style>\n",
              "    .colab-df-container {\n",
              "      display:flex;\n",
              "      flex-wrap:wrap;\n",
              "      gap: 12px;\n",
              "    }\n",
              "\n",
              "    .colab-df-convert {\n",
              "      background-color: #E8F0FE;\n",
              "      border: none;\n",
              "      border-radius: 50%;\n",
              "      cursor: pointer;\n",
              "      display: none;\n",
              "      fill: #1967D2;\n",
              "      height: 32px;\n",
              "      padding: 0 0 0 0;\n",
              "      width: 32px;\n",
              "    }\n",
              "\n",
              "    .colab-df-convert:hover {\n",
              "      background-color: #E2EBFA;\n",
              "      box-shadow: 0px 1px 2px rgba(60, 64, 67, 0.3), 0px 1px 3px 1px rgba(60, 64, 67, 0.15);\n",
              "      fill: #174EA6;\n",
              "    }\n",
              "\n",
              "    [theme=dark] .colab-df-convert {\n",
              "      background-color: #3B4455;\n",
              "      fill: #D2E3FC;\n",
              "    }\n",
              "\n",
              "    [theme=dark] .colab-df-convert:hover {\n",
              "      background-color: #434B5C;\n",
              "      box-shadow: 0px 1px 3px 1px rgba(0, 0, 0, 0.15);\n",
              "      filter: drop-shadow(0px 1px 2px rgba(0, 0, 0, 0.3));\n",
              "      fill: #FFFFFF;\n",
              "    }\n",
              "  </style>\n",
              "\n",
              "      <script>\n",
              "        const buttonEl =\n",
              "          document.querySelector('#df-e623fe6a-f3f3-4fc0-85ff-ae4e458d128d button.colab-df-convert');\n",
              "        buttonEl.style.display =\n",
              "          google.colab.kernel.accessAllowed ? 'block' : 'none';\n",
              "\n",
              "        async function convertToInteractive(key) {\n",
              "          const element = document.querySelector('#df-e623fe6a-f3f3-4fc0-85ff-ae4e458d128d');\n",
              "          const dataTable =\n",
              "            await google.colab.kernel.invokeFunction('convertToInteractive',\n",
              "                                                     [key], {});\n",
              "          if (!dataTable) return;\n",
              "\n",
              "          const docLinkHtml = 'Like what you see? Visit the ' +\n",
              "            '<a target=\"_blank\" href=https://colab.research.google.com/notebooks/data_table.ipynb>data table notebook</a>'\n",
              "            + ' to learn more about interactive tables.';\n",
              "          element.innerHTML = '';\n",
              "          dataTable['output_type'] = 'display_data';\n",
              "          await google.colab.output.renderOutput(dataTable, element);\n",
              "          const docLink = document.createElement('div');\n",
              "          docLink.innerHTML = docLinkHtml;\n",
              "          element.appendChild(docLink);\n",
              "        }\n",
              "      </script>\n",
              "    </div>\n",
              "  </div>\n",
              "  "
            ]
          },
          "metadata": {},
          "execution_count": 57
        }
      ]
    }
  ]
}